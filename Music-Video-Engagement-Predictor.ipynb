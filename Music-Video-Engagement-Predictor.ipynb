{
 "cells": [
  {
   "cell_type": "code",
   "execution_count": 3,
   "metadata": {},
   "outputs": [],
   "source": [
    "# Notebook for CIS4930 Final Project\n",
    "\n",
    "import pandas as pd"
   ]
  },
  {
   "cell_type": "code",
   "execution_count": 4,
   "metadata": {},
   "outputs": [],
   "source": [
    "music_df = pd.read_csv('Spotify_Youtube.csv')"
   ]
  },
  {
   "cell_type": "code",
   "execution_count": null,
   "metadata": {},
   "outputs": [
    {
     "name": "stdout",
     "output_type": "stream",
     "text": [
      "Unnamed: 0            0\n",
      "Artist                0\n",
      "Url_spotify           0\n",
      "Track                 0\n",
      "Album                 0\n",
      "Album_type            0\n",
      "Uri                   0\n",
      "Danceability          2\n",
      "Energy                2\n",
      "Key                   2\n",
      "Loudness              2\n",
      "Speechiness           2\n",
      "Acousticness          2\n",
      "Instrumentalness      2\n",
      "Liveness              2\n",
      "Valence               2\n",
      "Tempo                 2\n",
      "Duration_ms           2\n",
      "Url_youtube         470\n",
      "Title               470\n",
      "Channel             470\n",
      "Views               470\n",
      "Likes               541\n",
      "Comments            569\n",
      "Description         876\n",
      "Licensed            470\n",
      "official_video      470\n",
      "Stream              576\n",
      "dtype: int64\n"
     ]
    }
   ],
   "source": [
    "print(music_df.isnull().sum())"
   ]
  },
  {
   "cell_type": "code",
   "execution_count": null,
   "metadata": {},
   "outputs": [],
   "source": []
  },
  {
   "cell_type": "code",
   "execution_count": null,
   "metadata": {},
   "outputs": [],
   "source": [
    "import pandas as pd\n",
    "import pandas.plotting as pd_plotting\n",
    "import matplotlib.pyplot as plt\n",
    "import numpy as np\n",
    "import sklearn"
   ]
  }
 ],
 "metadata": {
  "kernelspec": {
   "display_name": "CIS4930",
   "language": "python",
   "name": "python3"
  },
  "language_info": {
   "codemirror_mode": {
    "name": "ipython",
    "version": 3
   },
   "file_extension": ".py",
   "mimetype": "text/x-python",
   "name": "python",
   "nbconvert_exporter": "python",
   "pygments_lexer": "ipython3",
   "version": "3.11.11"
  }
 },
 "nbformat": 4,
 "nbformat_minor": 2
}
