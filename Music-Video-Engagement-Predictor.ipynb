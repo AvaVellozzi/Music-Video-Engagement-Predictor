{
 "cells": [
  {
   "cell_type": "code",
   "execution_count": 48,
   "metadata": {},
   "outputs": [],
   "source": [
    "import pandas as pd\n",
    "import pandas.plotting as pd_plotting\n",
    "import matplotlib.pyplot as plt\n",
    "import numpy as np\n",
    "import sklearn\n",
    "from sklearn.preprocessing import LabelEncoder\n",
    "from sklearn.model_selection import train_test_split"
   ]
  },
  {
   "cell_type": "code",
   "execution_count": 49,
   "metadata": {},
   "outputs": [
    {
     "name": "stdout",
     "output_type": "stream",
     "text": [
      "Unnamed: 0            0\n",
      "Artist                0\n",
      "Url_spotify           0\n",
      "Track                 0\n",
      "Album                 0\n",
      "Album_type            0\n",
      "Uri                   0\n",
      "Danceability          2\n",
      "Energy                2\n",
      "Key                   2\n",
      "Loudness              2\n",
      "Speechiness           2\n",
      "Acousticness          2\n",
      "Instrumentalness      2\n",
      "Liveness              2\n",
      "Valence               2\n",
      "Tempo                 2\n",
      "Duration_ms           2\n",
      "Url_youtube         470\n",
      "Title               470\n",
      "Channel             470\n",
      "Views               470\n",
      "Likes               541\n",
      "Comments            569\n",
      "Description         876\n",
      "Licensed            470\n",
      "official_video      470\n",
      "Stream              576\n",
      "dtype: int64\n"
     ]
    }
   ],
   "source": [
    "FILEPATH = 'Spotify_Youtube.csv'\n",
    "TARGET_COLUMN = 'Views' # Target for regression task\n",
    "TEST_SIZE = 0.2\n",
    "RANDOM_STATE = 42\n",
    "\n",
    "music_df = pd.read_csv('Spotify_Youtube.csv')\n",
    "print(music_df.isnull().sum())"
   ]
  },
  {
   "cell_type": "code",
   "execution_count": 50,
   "metadata": {},
   "outputs": [
    {
     "name": "stdout",
     "output_type": "stream",
     "text": [
      "--- 3: Loading Data from Spotify_Youtube.csv ---\n",
      "Data loaded successfully. Shape: (20718, 28)\n",
      "\n",
      "--- Initial Data Info ---\n",
      "<class 'pandas.core.frame.DataFrame'>\n",
      "RangeIndex: 20718 entries, 0 to 20717\n",
      "Data columns (total 28 columns):\n",
      " #   Column            Non-Null Count  Dtype  \n",
      "---  ------            --------------  -----  \n",
      " 0   Unnamed: 0        20718 non-null  int64  \n",
      " 1   Artist            20718 non-null  object \n",
      " 2   Url_spotify       20718 non-null  object \n",
      " 3   Track             20718 non-null  object \n",
      " 4   Album             20718 non-null  object \n",
      " 5   Album_type        20718 non-null  object \n",
      " 6   Uri               20718 non-null  object \n",
      " 7   Danceability      20716 non-null  float64\n",
      " 8   Energy            20716 non-null  float64\n",
      " 9   Key               20716 non-null  float64\n",
      " 10  Loudness          20716 non-null  float64\n",
      " 11  Speechiness       20716 non-null  float64\n",
      " 12  Acousticness      20716 non-null  float64\n",
      " 13  Instrumentalness  20716 non-null  float64\n",
      " 14  Liveness          20716 non-null  float64\n",
      " 15  Valence           20716 non-null  float64\n",
      " 16  Tempo             20716 non-null  float64\n",
      " 17  Duration_ms       20716 non-null  float64\n",
      " 18  Url_youtube       20248 non-null  object \n",
      " 19  Title             20248 non-null  object \n",
      " 20  Channel           20248 non-null  object \n",
      " 21  Views             20248 non-null  float64\n",
      " 22  Likes             20177 non-null  float64\n",
      " 23  Comments          20149 non-null  float64\n",
      " 24  Description       19842 non-null  object \n",
      " 25  Licensed          20248 non-null  object \n",
      " 26  official_video    20248 non-null  object \n",
      " 27  Stream            20142 non-null  float64\n",
      "dtypes: float64(15), int64(1), object(12)\n",
      "memory usage: 4.4+ MB\n",
      "None\n",
      "\n",
      "--- Data Head ---\n",
      "   Unnamed: 0        Artist  \\\n",
      "0        1147    Luis Fonsi   \n",
      "1         365  Daddy Yankee   \n",
      "2       14580  Charlie Puth   \n",
      "3       12469   Wiz Khalifa   \n",
      "4       14561           BTS   \n",
      "\n",
      "                                         Url_spotify  \\\n",
      "0  https://open.spotify.com/artist/4V8Sr092TqfHkf...   \n",
      "1  https://open.spotify.com/artist/4VMYDCV2IEDYJA...   \n",
      "2  https://open.spotify.com/artist/6VuMaDnrHyPL1p...   \n",
      "3  https://open.spotify.com/artist/137W8MRPWKqSmr...   \n",
      "4  https://open.spotify.com/artist/3Nrfpe0tUJi4K4...   \n",
      "\n",
      "                                Track                               Album  \\\n",
      "0                           Despacito                                VIDA   \n",
      "1                           Despacito                                VIDA   \n",
      "2  See You Again (feat. Charlie Puth)  See You Again (feat. Charlie Puth)   \n",
      "3  See You Again (feat. Charlie Puth)  See You Again (feat. Charlie Puth)   \n",
      "4                            Dynamite                                  BE   \n",
      "\n",
      "  Album_type                                   Uri  Danceability  Energy  \\\n",
      "0      album  spotify:track:6habFhsOp2NvshLv26DqMb         0.655   0.797   \n",
      "1      album  spotify:track:6habFhsOp2NvshLv26DqMb         0.655   0.797   \n",
      "2     single  spotify:track:2JzZzZUQj3Qff7wapcbKjc         0.689   0.481   \n",
      "3     single  spotify:track:2JzZzZUQj3Qff7wapcbKjc         0.689   0.481   \n",
      "4      album  spotify:track:5QDLhrAOJJdNAmCTJ8xMyW         0.746   0.765   \n",
      "\n",
      "    Key  ...                                  Url_youtube  \\\n",
      "0   2.0  ...  https://www.youtube.com/watch?v=kJQP7kiw5Fk   \n",
      "1   2.0  ...  https://www.youtube.com/watch?v=kJQP7kiw5Fk   \n",
      "2  10.0  ...  https://www.youtube.com/watch?v=RgKAFK5djSk   \n",
      "3  10.0  ...  https://www.youtube.com/watch?v=RgKAFK5djSk   \n",
      "4   6.0  ...  https://www.youtube.com/watch?v=gdZLi9oWNZg   \n",
      "\n",
      "                                               Title            Channel  \\\n",
      "0            Luis Fonsi - Despacito ft. Daddy Yankee      LuisFonsiVEVO   \n",
      "1            Luis Fonsi - Despacito ft. Daddy Yankee      LuisFonsiVEVO   \n",
      "2  Wiz Khalifa - See You Again ft. Charlie Puth [...  Wiz Khalifa Music   \n",
      "3  Wiz Khalifa - See You Again ft. Charlie Puth [...  Wiz Khalifa Music   \n",
      "4                 BTS (방탄소년단) 'Dynamite' Official MV        HYBE LABELS   \n",
      "\n",
      "          Views       Likes    Comments  \\\n",
      "0  8.079649e+09  50788652.0   4252791.0   \n",
      "1  8.079647e+09  50788626.0   4252791.0   \n",
      "2  5.773798e+09  40147674.0   2127346.0   \n",
      "3  5.773797e+09  40147618.0   2127345.0   \n",
      "4  1.640946e+09  35892575.0  16083138.0   \n",
      "\n",
      "                                         Description  Licensed official_video  \\\n",
      "0  “Despacito” disponible ya en todas las platafo...      True           True   \n",
      "1  “Despacito” disponible ya en todas las platafo...      True           True   \n",
      "2  Download the new Furious 7 Soundtrack Deluxe V...      True           True   \n",
      "3  Download the new Furious 7 Soundtrack Deluxe V...      True           True   \n",
      "4  BTS (방탄소년단) 'Dynamite' Official MV\\n\\n\\nCredit...      True           True   \n",
      "\n",
      "         Stream  \n",
      "0  1.506598e+09  \n",
      "1  1.506598e+09  \n",
      "2  1.521255e+09  \n",
      "3  1.521255e+09  \n",
      "4  1.582446e+09  \n",
      "\n",
      "[5 rows x 28 columns]\n"
     ]
    }
   ],
   "source": [
    "print(f\"--- 3: Loading Data from {FILEPATH} ---\")\n",
    "df = pd.read_csv(FILEPATH)\n",
    "print(f\"Data loaded successfully. Shape: {df.shape}\")\n",
    "\n",
    "print(\"\\n--- Initial Data Info ---\")\n",
    "print(df.info())\n",
    "print(\"\\n--- Data Head ---\")\n",
    "print(df.head())"
   ]
  },
  {
   "cell_type": "code",
   "execution_count": 51,
   "metadata": {},
   "outputs": [
    {
     "name": "stdout",
     "output_type": "stream",
     "text": [
      "\n",
      "--- 4: Cleaning Data ---\n",
      "Dropping the first unnamed column: Unnamed: 0\n",
      "Dropped 1548 rows with missing values.\n",
      "DataFrame shape after cleaning: (19170, 27)\n",
      "\n",
      "Placeholder: Outlier detection and handling needed.\n",
      "Placeholder: Handling of incorrectly labeled points needed.\n"
     ]
    }
   ],
   "source": [
    "print(\"\\n--- 4: Cleaning Data ---\")\n",
    "\n",
    "# --- 4a: Drop Unnamed Column ---\n",
    "if df.columns[0].startswith('Unnamed:'):\n",
    "    print(f\"Dropping the first unnamed column: {df.columns[0]}\")\n",
    "    df = df.iloc[:, 1:]\n",
    "else:\n",
    "    print(\"First column is not unnamed, not dropping.\")\n",
    "\n",
    "# --- 4b: Handle Missing Values ---\n",
    "initial_rows = len(df)\n",
    "df.dropna(inplace=True)\n",
    "rows_dropped = initial_rows - len(df)\n",
    "if rows_dropped > 0:\n",
    "    print(f\"Dropped {rows_dropped} rows with missing values.\")\n",
    "else:\n",
    "    print(\"No rows with missing values found.\")\n",
    "print(f\"DataFrame shape after cleaning: {df.shape}\")\n",
    "\n",
    "# --- 4c: Placeholder for Outlier Handling ---\n",
    "print(\"\\nPlaceholder: Outlier detection and handling needed.\")\n",
    "\n",
    "# --- 4d: Placeholder for Incorrectly Labeled Points ---\n",
    "print(\"Placeholder: Handling of incorrectly labeled points needed.\")\n"
   ]
  },
  {
   "cell_type": "code",
   "execution_count": 52,
   "metadata": {},
   "outputs": [
    {
     "name": "stdout",
     "output_type": "stream",
     "text": [
      "\n",
      "--- 5: Encoding Categorical Features ---\n",
      "Encoding categorical column: Track\n",
      "Encoding categorical column: Artist\n",
      "Encoding categorical column: Album\n",
      "DataFrame shape after encoding: (19170, 27)\n"
     ]
    }
   ],
   "source": [
    "print(\"\\n--- 5: Encoding Categorical Features ---\")\n",
    "label_encoders = {}\n",
    "# Identify object columns that are likely categorical\n",
    "# Adjust this list based on actual dataset analysis\n",
    "cols_to_encode = ['Track', 'Artist', 'Album'] # Add other relevant object columns\n",
    "\n",
    "for col in cols_to_encode:\n",
    "    if col in df.columns:\n",
    "        if df[col].dtype == 'object':\n",
    "            print(f\"Encoding categorical column: {col}\")\n",
    "            le = LabelEncoder()\n",
    "            df[col] = le.fit_transform(df[col])\n",
    "            label_encoders[col] = le # Store encoder if needed later\n",
    "        else:\n",
    "             print(f\"Skipping encoding for non-object column: {col}\")\n",
    "    else:\n",
    "        print(f\"Warning: Column '{col}' not found for encoding.\")\n",
    "print(f\"DataFrame shape after encoding: {df.shape}\")"
   ]
  },
  {
   "cell_type": "code",
   "execution_count": 53,
   "metadata": {},
   "outputs": [
    {
     "name": "stdout",
     "output_type": "stream",
     "text": [
      "\n",
      "--- 6: Feature Selection ---\n",
      "Dropped columns: ['Url_spotify', 'Uri', 'Url_youtube', 'Description', 'Licensed', 'official_video']\n",
      "DataFrame shape after feature selection: (19170, 21)\n",
      "\n",
      "Remaining columns:\n",
      "['Artist', 'Track', 'Album', 'Album_type', 'Danceability', 'Energy', 'Key', 'Loudness', 'Speechiness', 'Acousticness', 'Instrumentalness', 'Liveness', 'Valence', 'Tempo', 'Duration_ms', 'Title', 'Channel', 'Views', 'Likes', 'Comments', 'Stream']\n"
     ]
    }
   ],
   "source": [
    "print(\"\\n--- 6: Feature Selection ---\")\n",
    "\n",
    "# Drop columns that don't add value for ML predictions\n",
    "columns_to_drop = [\n",
    "    'Url_spotify',\n",
    "    'Uri',\n",
    "    'Url_youtube',\n",
    "    'Description',\n",
    "    'Licensed',\n",
    "    'official_video'\n",
    "]\n",
    "\n",
    "# Drop the specified columns\n",
    "df = df.drop(columns=columns_to_drop)\n",
    "print(f\"Dropped columns: {columns_to_drop}\")\n",
    "print(f\"DataFrame shape after feature selection: {df.shape}\")\n",
    "\n",
    "# Display remaining columns\n",
    "print(\"\\nRemaining columns:\")\n",
    "print(df.columns.tolist())"
   ]
  },
  {
   "cell_type": "code",
   "execution_count": 54,
   "metadata": {},
   "outputs": [
    {
     "name": "stdout",
     "output_type": "stream",
     "text": [
      "\n",
      "--- 7: Splitting Data into Features (X) and Target (y) ---\n",
      "Features shape (X): (19170, 20)\n",
      "Target shape (y): (19170,)\n"
     ]
    }
   ],
   "source": [
    "print(\"\\n--- 7: Splitting Data into Features (X) and Target (y) ---\")\n",
    "if TARGET_COLUMN not in df.columns:\n",
    "    print(f\"Error: Target column '{TARGET_COLUMN}' not found in DataFrame.\")\n",
    "    sys.exit(1)\n",
    "\n",
    "X = df.drop(TARGET_COLUMN, axis=1)\n",
    "y = df[TARGET_COLUMN]\n",
    "print(f\"Features shape (X): {X.shape}\")\n",
    "print(f\"Target shape (y): {y.shape}\")"
   ]
  },
  {
   "cell_type": "code",
   "execution_count": 55,
   "metadata": {},
   "outputs": [
    {
     "name": "stdout",
     "output_type": "stream",
     "text": [
      "\n",
      "--- 8: Splitting Data into Training and Testing Sets ---\n",
      "Data split into training and testing sets (test_size=0.2, random_state=42).\n"
     ]
    }
   ],
   "source": [
    "print(\"\\n--- 8: Splitting Data into Training and Testing Sets ---\")\n",
    "X_train, X_test, y_train, y_test = train_test_split(\n",
    "    X, y, test_size=TEST_SIZE, random_state=RANDOM_STATE\n",
    ")\n",
    "print(f\"Data split into training and testing sets (test_size={TEST_SIZE}, random_state={RANDOM_STATE}).\")\n"
   ]
  },
  {
   "cell_type": "code",
   "execution_count": 56,
   "metadata": {},
   "outputs": [
    {
     "name": "stdout",
     "output_type": "stream",
     "text": [
      "\n",
      "--- 9: Final Shapes ---\n",
      "Training features shape (X_train): (15336, 20)\n",
      "Testing features shape (X_test): (3834, 20)\n",
      "Training target shape (y_train): (15336,)\n",
      "Testing target shape (y_test): (3834,)\n",
      "\n",
      "--- Preprocessing Script Complete ---\n"
     ]
    }
   ],
   "source": [
    "print(\"\\n--- 9: Final Shapes ---\")\n",
    "print(\"Training features shape (X_train):\", X_train.shape)\n",
    "print(\"Testing features shape (X_test):\", X_test.shape)\n",
    "print(\"Training target shape (y_train):\", y_train.shape)\n",
    "print(\"Testing target shape (y_test):\", y_test.shape)\n",
    "print(\"\\n--- Preprocessing Script Complete ---\") "
   ]
  }
 ],
 "metadata": {
  "kernelspec": {
   "display_name": "CIS4930",
   "language": "python",
   "name": "python3"
  },
  "language_info": {
   "codemirror_mode": {
    "name": "ipython",
    "version": 3
   },
   "file_extension": ".py",
   "mimetype": "text/x-python",
   "name": "python",
   "nbconvert_exporter": "python",
   "pygments_lexer": "ipython3",
   "version": "3.11.8"
  }
 },
 "nbformat": 4,
 "nbformat_minor": 2
}
